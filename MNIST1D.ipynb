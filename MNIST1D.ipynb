{
  "nbformat": 4,
  "nbformat_minor": 0,
  "metadata": {
    "colab": {
      "name": "MNIST1D.ipynb",
      "provenance": [],
      "collapsed_sections": [
        "i2ajdUlDzQdM"
      ]
    },
    "kernelspec": {
      "name": "python3",
      "display_name": "Python 3"
    }
  },
  "cells": [
    {
      "cell_type": "code",
      "metadata": {
        "colab": {
          "base_uri": "https://localhost:8080/"
        },
        "id": "IycDm5rEVyX0",
        "outputId": "0e0f5ab3-cd15-414f-f6d7-ab8317b0a03d"
      },
      "source": [
        "from google.colab import drive\r\n",
        "drive.mount('/content/drive')"
      ],
      "execution_count": null,
      "outputs": [
        {
          "output_type": "stream",
          "text": [
            "Mounted at /content/drive\n"
          ],
          "name": "stdout"
        }
      ]
    },
    {
      "cell_type": "code",
      "metadata": {
        "id": "fiCcdB_QV0Fb"
      },
      "source": [
        "import os\r\n",
        "os.chdir(r'/content/drive/My Drive')  # Change the directory "
      ],
      "execution_count": null,
      "outputs": []
    },
    {
      "cell_type": "markdown",
      "metadata": {
        "id": "FXgwO7nGfg0W"
      },
      "source": [
        "# Requirements"
      ]
    },
    {
      "cell_type": "code",
      "metadata": {
        "id": "GfgOoaMBPzG6"
      },
      "source": [
        "import numpy as np\r\n",
        "import pandas as pd\r\n",
        "import requests\r\n",
        "import scipy\r\n",
        "import pickle\r\n",
        "from scipy.ndimage.filters import gaussian_filter\r\n",
        "from scipy.interpolate import interp1d\r\n",
        "import tensorflow\r\n",
        "import keras\r\n",
        "from keras.models import Sequential\r\n",
        "from keras.layers import Conv1D, MaxPooling1D, Dense, Flatten\r\n",
        "from keras import regularizers\r\n",
        "import keras.backend as K\r\n",
        "from keras.models import load_model\r\n",
        "from tensorflow.core.util import event_pb2\r\n",
        "from tensorflow.python.lib.io import tf_record\r\n",
        "import sklearn.metrics as metrics\r\n",
        "import matplotlib.pyplot as plt\r\n",
        "import cv2"
      ],
      "execution_count": null,
      "outputs": []
    },
    {
      "cell_type": "code",
      "metadata": {
        "id": "oXY7G98lr9vb",
        "cellView": "form"
      },
      "source": [
        "#@title MNIST-1D utils\r\n",
        "\r\n",
        "# transformations of the templates which will make them harder to classify\r\n",
        "def pad(x, padding):\r\n",
        "    low, high = padding\r\n",
        "    p = low + int(np.random.rand()*(high-low+1))\r\n",
        "    return np.concatenate([x, np.zeros((p))])\r\n",
        "\r\n",
        "def shear(x, scale=10):\r\n",
        "    coeff = scale*(np.random.rand() - 0.5)\r\n",
        "    return x - coeff*np.linspace(-0.5,.5,len(x))\r\n",
        "\r\n",
        "def translate(x, max_translation):\r\n",
        "    k = np.random.choice(max_translation)\r\n",
        "    return np.concatenate([x[-k:], x[:-k]])\r\n",
        "\r\n",
        "def corr_noise_like(x, scale):\r\n",
        "    noise = scale * np.random.randn(*x.shape)\r\n",
        "    return gaussian_filter(noise, 2)\r\n",
        "\r\n",
        "def iid_noise_like(x, scale):\r\n",
        "    noise = scale * np.random.randn(*x.shape)\r\n",
        "    return noise\r\n",
        "\r\n",
        "def interpolate(x, N):\r\n",
        "    scale = np.linspace(0,1,len(x))\r\n",
        "    new_scale = np.linspace(0,1,N)\r\n",
        "    new_x = interp1d(scale, x, axis=0, kind='linear')(new_scale)\r\n",
        "    return new_x\r\n",
        "\r\n",
        "def transform(x, y, args, eps=1e-8):\r\n",
        "    new_x = pad(x+eps, args.padding) # pad\r\n",
        "    new_x = interpolate(new_x, args.template_len + args.padding[-1])  # dilate\r\n",
        "    new_y = interpolate(y, args.template_len + args.padding[-1])\r\n",
        "    new_x *= (1 + args.scale_coeff*(np.random.rand() - 0.5))  # scale\r\n",
        "    new_x = translate(new_x, args.max_translation)  #translate\r\n",
        "    \r\n",
        "    # add noise\r\n",
        "    mask = new_x != 0\r\n",
        "    new_x = mask*new_x + (1-mask)*corr_noise_like(new_x, args.corr_noise_scale)\r\n",
        "    new_x = new_x + iid_noise_like(new_x, args.iid_noise_scale)\r\n",
        "    \r\n",
        "    # shear and interpolate\r\n",
        "    new_x = shear(new_x, args.shear_scale)\r\n",
        "    new_x = interpolate(new_x, args.final_seq_length) # subsample\r\n",
        "    new_y = interpolate(new_y, args.final_seq_length)\r\n",
        "    return new_x, new_y\r\n",
        "\r\n",
        "def get_dataset_args(as_dict=False):\r\n",
        "    arg_dict = {'num_samples': 5000,\r\n",
        "            'train_split': 0.8,\r\n",
        "            'template_len': 12,\r\n",
        "            'padding': [36,60],\r\n",
        "            'scale_coeff': .4, \r\n",
        "            'max_translation': 48,\r\n",
        "            'corr_noise_scale': 0.25,\r\n",
        "            'iid_noise_scale': 2e-2,\r\n",
        "            'shear_scale': 0.75,\r\n",
        "            'shuffle_seq': False,\r\n",
        "            'final_seq_length': 40,\r\n",
        "            'seed': 42,\r\n",
        "            'url': 'https://github.com/greydanus/mnist1d/raw/master/mnist1d_data.pkl'}\r\n",
        "    return arg_dict if as_dict else ObjectView(arg_dict)\r\n",
        "\r\n",
        "\r\n",
        "def to_pickle(thing, path): # save something\r\n",
        "    with open(path, 'wb') as handle:\r\n",
        "        pickle.dump(thing, handle, protocol=4)\r\n",
        "\r\n",
        "\r\n",
        "def from_pickle(path): # load something\r\n",
        "    thing = None\r\n",
        "    with open(path, 'rb') as handle:\r\n",
        "        thing = pickle.load(handle)\r\n",
        "    return thing\r\n",
        "\r\n",
        "class ObjectView(object):\r\n",
        "    def __init__(self, d): self.__dict__ = d\r\n",
        "\r\n",
        "# basic 1D templates for the 10 digits\r\n",
        "def get_templates():\r\n",
        "    d0 = np.asarray([5,6,6.5,6.75,7,7,7,7,6.75,6.5,6,5])\r\n",
        "    d1 = np.asarray([5,3,3,3.4,3.8,4.2,4.6,5,5.4,5.8,5,5])\r\n",
        "    d2 = np.asarray([5,6,6.5,6.5,6,5.25,4.75,4,3.5,3.5,4,5])\r\n",
        "    d3 = np.asarray([5,6,6.5,6.5,6,5,5,6,6.5,6.5,6,5])\r\n",
        "    d4 = np.asarray([5,4.4,3.8,3.2,2.6,2.6,5,5,5,5,5,5])\r\n",
        "    d5 = np.asarray([5,3,3,3,3,5,6,6.5,6.5,6,4.5,5])\r\n",
        "    d6 = np.asarray([5,4,3.5,3.25,3,3,3,3,3.25,3.5,4,5])\r\n",
        "    d7 = np.asarray([5,7,7,6.6,6.2,5.8,5.4,5,4.6,4.2,5,5])\r\n",
        "    d8 = np.asarray([5,4,3.5,3.5,4,5,5,4,3.5,3.5,4,5])\r\n",
        "    d9 = np.asarray([5,4,3.5,3.5,4,5,5,5,5,4.7,4.3,5])\r\n",
        "    \r\n",
        "    x = np.stack([d0,d1,d2,d3,d4,d5,d6,d7,d8,d9])\r\n",
        "    x -= x.mean(1,keepdims=True) # whiten\r\n",
        "    x /= x.std(1,keepdims=True)\r\n",
        "    x -= x[:,:1]  # signal starts and ends at 0\r\n",
        "    \r\n",
        "    templates = {'x': x/6., 't': np.linspace(-5, 5, len(d0))/6.,\r\n",
        "                 'y': np.asarray([0,1,2,3,4,5,6,7,8,9])}\r\n",
        "    return templates\r\n",
        "\r\n",
        "def make_dataset(args=None, template=None, ):\r\n",
        "    templates = get_templates() if template is None else template\r\n",
        "    args = get_dataset_args() if args is None else args\r\n",
        "    np.random.seed(args.seed) # reproducibility\r\n",
        "    \r\n",
        "    xs, ys = [], []\r\n",
        "    samples_per_class = args.num_samples // len(templates['y'])\r\n",
        "    for label_ix in range(len(templates['y'])):\r\n",
        "        for example_ix in range(samples_per_class):\r\n",
        "            x = templates['x'][label_ix]\r\n",
        "            t = templates['t']\r\n",
        "            y = templates['y'][label_ix]\r\n",
        "            x, new_t = transform(x, t, args) # new_t transformation is same each time\r\n",
        "            xs.append(x) ; ys.append(y)\r\n",
        "    \r\n",
        "    batch_shuffle = np.random.permutation(len(ys)) # shuffle batch dimension\r\n",
        "    xs = np.stack(xs)[batch_shuffle]\r\n",
        "    ys = np.stack(ys)[batch_shuffle]\r\n",
        "    \r\n",
        "    if args.shuffle_seq: # maybe shuffle the spatial dimension\r\n",
        "        seq_shuffle = np.random.permutation(args.final_seq_length)\r\n",
        "        xs = xs[...,seq_shuffle]\r\n",
        "    \r\n",
        "    new_t = new_t/xs.std()\r\n",
        "    xs = (xs-xs.mean())/xs.std() # center the dataset & set standard deviation to 1\r\n",
        "\r\n",
        "    # train / test split\r\n",
        "    split_ix = int(len(ys)*args.train_split)\r\n",
        "    dataset = {'x': xs[:split_ix], 'x_test': xs[split_ix:],\r\n",
        "               'y': ys[:split_ix], 'y_test': ys[split_ix:],\r\n",
        "               't':new_t, 'templates': templates}\r\n",
        "    return dataset\r\n"
      ],
      "execution_count": null,
      "outputs": []
    },
    {
      "cell_type": "code",
      "metadata": {
        "id": "b2yNuw5bZHK3"
      },
      "source": [
        "from mnist1d_utils import *"
      ],
      "execution_count": null,
      "outputs": []
    },
    {
      "cell_type": "markdown",
      "metadata": {
        "id": "TgXE_0b0Gzj5"
      },
      "source": [
        "# Dataset"
      ]
    },
    {
      "cell_type": "code",
      "metadata": {
        "id": "n0_uYlpWnRz4"
      },
      "source": [
        "dataset = make_dataset()"
      ],
      "execution_count": null,
      "outputs": []
    },
    {
      "cell_type": "markdown",
      "metadata": {
        "id": "sjZIDVGahaNA"
      },
      "source": [
        "**Dataset:** A dictionary conaining 4000 train and 1000 test data.\r\n",
        "\r\n",
        "Keys of the dictionary:\r\n",
        "\r\n",
        "* 'x' : Training data.\r\n",
        "\r\n",
        "* 'y' : Training labels.\r\n",
        "\r\n",
        "* 'x_test' : Test data.\r\n",
        "\r\n",
        "* 'y_test : Test labels.\r\n",
        "\r\n",
        "* 't' : Mapping data points to spatial locations.\r\n",
        "\r\n",
        "* 'templates' : The templates for the digits 0-9."
      ]
    },
    {
      "cell_type": "code",
      "metadata": {
        "colab": {
          "base_uri": "https://localhost:8080/",
          "height": 228
        },
        "id": "r9K7zrI1s6nA",
        "outputId": "d7ab8c1f-50d8-4721-ac71-01b39e685fc5"
      },
      "source": [
        "#@title Show some examples from the MNIST 1-D dataset\r\n",
        "\r\n",
        "plt.figure(figsize=(20,3))\r\n",
        "\r\n",
        "plt.subplot(151)\r\n",
        "plt.plot(dataset['x'][0], 'r')\r\n",
        "plt.axis('off')\r\n",
        "plt.title('predicted class: '+str(dataset['y'][0]))\r\n",
        "\r\n",
        "plt.subplot(152)\r\n",
        "plt.plot(dataset['x'][1], 'r')\r\n",
        "plt.axis('off')\r\n",
        "plt.title('predicted class: '+str(dataset['y'][1]))\r\n",
        "\r\n",
        "plt.subplot(153)\r\n",
        "plt.plot(dataset['x'][2], 'r')\r\n",
        "plt.axis('off')\r\n",
        "plt.title('predicted class: '+str(dataset['y'][2]))\r\n",
        "\r\n",
        "plt.subplot(154)\r\n",
        "plt.plot(dataset['x'][3], 'r')\r\n",
        "plt.axis('off')\r\n",
        "plt.title('predicted class: '+str(dataset['y'][3]))\r\n",
        "\r\n",
        "plt.subplot(155)\r\n",
        "plt.plot(dataset['x'][4], 'r')\r\n",
        "plt.axis('off')\r\n",
        "plt.title('predicted class: '+str(dataset['y'][4]))"
      ],
      "execution_count": null,
      "outputs": [
        {
          "output_type": "execute_result",
          "data": {
            "text/plain": [
              "Text(0.5, 1.0, 'predicted class: 6')"
            ]
          },
          "metadata": {
            "tags": []
          },
          "execution_count": 16
        },
        {
          "output_type": "display_data",
          "data": {
            "image/png": "[encoded data removed]",
            "text/plain": [
              "<Figure size 1440x216 with 5 Axes>"
            ]
          },
          "metadata": {
            "tags": [],
            "needs_background": "light"
          }
        }
      ]
    },
    {
      "cell_type": "code",
      "metadata": {
        "colab": {
          "base_uri": "https://localhost:8080/",
          "height": 500
        },
        "id": "tE-5RvGbiffa",
        "outputId": "8fed8587-4c79-439d-d087-42eceed7bbae"
      },
      "source": [
        "#@title Show the digit templates in the MNIST 1-D dataset \r\n",
        "\r\n",
        "plt.figure(figsize=(20,8))\r\n",
        "\r\n",
        "plt.subplot(251)\r\n",
        "plt.plot(dataset['templates']['x'][0], 'r')\r\n",
        "plt.axis('off')\r\n",
        "plt.title('predicted class: 0')\r\n",
        "\r\n",
        "plt.subplot(252)\r\n",
        "plt.plot(dataset['templates']['x'][1], 'r')\r\n",
        "plt.axis('off')\r\n",
        "plt.title('predicted class: 1')\r\n",
        "\r\n",
        "plt.subplot(253)\r\n",
        "plt.plot(dataset['templates']['x'][2], 'r')\r\n",
        "plt.axis('off')\r\n",
        "plt.title('predicted class: 2')\r\n",
        "\r\n",
        "plt.subplot(254)\r\n",
        "plt.plot(dataset['templates']['x'][3], 'r')\r\n",
        "plt.axis('off')\r\n",
        "plt.title('predicted class: 3')\r\n",
        "\r\n",
        "plt.subplot(255)\r\n",
        "plt.plot(dataset['templates']['x'][4], 'r')\r\n",
        "plt.axis('off')\r\n",
        "plt.title('predicted class: 4')\r\n",
        "\r\n",
        "plt.subplot(256)\r\n",
        "plt.plot(dataset['templates']['x'][5], 'r')\r\n",
        "plt.axis('off')\r\n",
        "plt.title('predicted class: 5')\r\n",
        "\r\n",
        "plt.subplot(257)\r\n",
        "plt.plot(dataset['templates']['x'][6], 'r')\r\n",
        "plt.axis('off')\r\n",
        "plt.title('predicted class: 6')\r\n",
        "\r\n",
        "plt.subplot(258)\r\n",
        "plt.plot(dataset['templates']['x'][7], 'r')\r\n",
        "plt.axis('off')\r\n",
        "plt.title('predicted class: 7')\r\n",
        "\r\n",
        "plt.subplot(259)\r\n",
        "plt.plot(dataset['templates']['x'][8], 'r')\r\n",
        "plt.axis('off')\r\n",
        "plt.title('predicted class: 8')\r\n",
        "\r\n",
        "plt.subplot(2,5,10)\r\n",
        "plt.plot(dataset['templates']['x'][9], 'r')\r\n",
        "plt.axis('off')\r\n",
        "plt.title('predicted class: 9')"
      ],
      "execution_count": null,
      "outputs": [
        {
          "output_type": "execute_result",
          "data": {
            "text/plain": [
              "Text(0.5, 1.0, 'predicted class: 9')"
            ]
          },
          "metadata": {
            "tags": []
          },
          "execution_count": 31
        },
        {
          "output_type": "display_data",
          "data": {
            "image/png": "[encoded data removed]",
            "text/plain": [
              "<Figure size 1440x576 with 10 Axes>"
            ]
          },
          "metadata": {
            "tags": [],
            "needs_background": "light"
          }
        }
      ]
    },
    {
      "cell_type": "markdown",
      "metadata": {
        "id": "vzU4rjnStv0u"
      },
      "source": [
        "Saving the dataset"
      ]
    },
    {
      "cell_type": "code",
      "metadata": {
        "id": "pB5RISwytxXE"
      },
      "source": [
        "f = open(\"MNIST1D.pkl\",\"wb\")\r\n",
        "pickle.dump(dataset,f)\r\n",
        "f.close()"
      ],
      "execution_count": null,
      "outputs": []
    },
    {
      "cell_type": "markdown",
      "metadata": {
        "id": "XfxoIZegODCA"
      },
      "source": [
        "# Model Creation"
      ]
    },
    {
      "cell_type": "markdown",
      "metadata": {
        "id": "2d1aY0rinOha"
      },
      "source": [
        "**Creating model :**\r\n",
        "\r\n",
        "A 1-Dimensional CNN, containing 3 convolutional layers, followed by a fully-connected output layer."
      ]
    },
    {
      "cell_type": "code",
      "metadata": {
        "id": "2dQ2IJfgtAOo"
      },
      "source": [
        "weight_decay = 5e-4\r\n",
        "model = Sequential()\r\n",
        "model.add(Conv1D(filters=25, kernel_size=(5), padding='same', activation='relu', input_shape=(40,1), kernel_regularizer=regularizers.l2(weight_decay)))\r\n",
        "model.add(Conv1D(filters=25, kernel_size=(3), padding='same', activation='relu', kernel_regularizer=regularizers.l2(weight_decay)))\r\n",
        "model.add(Conv1D(filters=25, kernel_size=(3), padding='same', activation='relu', kernel_regularizer=regularizers.l2(weight_decay)))\r\n",
        "model.add(Flatten())\r\n",
        "model.add(Dense(10, activation='softmax', kernel_initializer=keras.initializers.RandomNormal(mean=0.0, stddev=0.5),\r\n",
        "                bias_initializer=keras.initializers.Zeros(), kernel_regularizer=regularizers.l2(weight_decay)))"
      ],
      "execution_count": null,
      "outputs": []
    },
    {
      "cell_type": "markdown",
      "metadata": {
        "id": "SWQJMoj-npxE"
      },
      "source": [
        "Printing the model's summary."
      ]
    },
    {
      "cell_type": "code",
      "metadata": {
        "id": "wArGIWi_VMRf",
        "colab": {
          "base_uri": "https://localhost:8080/"
        },
        "outputId": "68e6aecb-53c0-4d18-8eab-b73e7b836f03"
      },
      "source": [
        "model.summary()"
      ],
      "execution_count": null,
      "outputs": [
        {
          "output_type": "stream",
          "text": [
            "Model: \"sequential\"\n",
            "_________________________________________________________________\n",
            "Layer (type)                 Output Shape              Param #   \n",
            "=================================================================\n",
            "conv1d (Conv1D)              (None, 40, 25)            150       \n",
            "_________________________________________________________________\n",
            "conv1d_1 (Conv1D)            (None, 40, 25)            1900      \n",
            "_________________________________________________________________\n",
            "conv1d_2 (Conv1D)            (None, 40, 25)            1900      \n",
            "_________________________________________________________________\n",
            "flatten (Flatten)            (None, 1000)              0         \n",
            "_________________________________________________________________\n",
            "dense (Dense)                (None, 10)                10010     \n",
            "=================================================================\n",
            "Total params: 13,960\n",
            "Trainable params: 13,960\n",
            "Non-trainable params: 0\n",
            "_________________________________________________________________\n"
          ],
          "name": "stdout"
        }
      ]
    },
    {
      "cell_type": "markdown",
      "metadata": {
        "id": "S9PePu6BsZKS"
      },
      "source": [
        "# Training the model"
      ]
    },
    {
      "cell_type": "markdown",
      "metadata": {
        "id": "1mRgs2Ewnxlm"
      },
      "source": [
        "Compiling the model\r\n",
        "\r\n",
        "Loss function: Cross-entropy\r\n",
        "\r\n",
        "Optimizer: Stochastic Gradient Descent (SGD)\r\n",
        "\r\n",
        "Tensorboard: For recording the training procedure"
      ]
    },
    {
      "cell_type": "code",
      "metadata": {
        "id": "3XK3dbaWnzPF"
      },
      "source": [
        "# Compile the model\r\n",
        "model.compile(loss=keras.losses.sparse_categorical_crossentropy,\r\n",
        "              optimizer=keras.optimizers.SGD(learning_rate=0.01),\r\n",
        "              metrics=['accuracy'])\r\n",
        "\r\n",
        "tensorboard_cb = keras.callbacks.TensorBoard(log_dir='log', write_graph=True)"
      ],
      "execution_count": null,
      "outputs": []
    },
    {
      "cell_type": "code",
      "metadata": {
        "colab": {
          "base_uri": "https://localhost:8080/"
        },
        "id": "ydFRz4NXPvOu",
        "outputId": "28bf8e4c-5554-4769-d837-3a9344df5b66"
      },
      "source": [
        "model.fit(x=np.expand_dims(dataset['x'], axis=-1), y=dataset['y'], validation_split=0.1, callbacks=[tensorboard_cb], epochs=200)"
      ],
      "execution_count": null,
      "outputs": [
        {
          "output_type": "stream",
          "text": [
            "Epoch 1/200\n",
            "113/113 [==============================] - 3s 19ms/step - loss: 3.6917 - accuracy: 0.1333 - val_loss: 3.3785 - val_accuracy: 0.2050\n",
            "Epoch 2/200\n",
            "113/113 [==============================] - 1s 5ms/step - loss: 3.3671 - accuracy: 0.2016 - val_loss: 3.3227 - val_accuracy: 0.2075\n",
            "Epoch 3/200\n",
            "113/113 [==============================] - 1s 5ms/step - loss: 3.2927 - accuracy: 0.2352 - val_loss: 3.2804 - val_accuracy: 0.2125\n",
            "Epoch 4/200\n",
            "113/113 [==============================] - 1s 5ms/step - loss: 3.2419 - accuracy: 0.2499 - val_loss: 3.2213 - val_accuracy: 0.2500\n",
            "Epoch 5/200\n",
            "113/113 [==============================] - 1s 5ms/step - loss: 3.1787 - accuracy: 0.2757 - val_loss: 3.1455 - val_accuracy: 0.2750\n",
            "Epoch 6/200\n",
            "113/113 [==============================] - 1s 5ms/step - loss: 3.0902 - accuracy: 0.3078 - val_loss: 3.0887 - val_accuracy: 0.2775\n",
            "Epoch 7/200\n",
            "113/113 [==============================] - 1s 5ms/step - loss: 3.0157 - accuracy: 0.3295 - val_loss: 2.9986 - val_accuracy: 0.3125\n",
            "Epoch 8/200\n",
            "113/113 [==============================] - 1s 5ms/step - loss: 2.9318 - accuracy: 0.3643 - val_loss: 2.9474 - val_accuracy: 0.3500\n",
            "Epoch 9/200\n",
            "113/113 [==============================] - 1s 6ms/step - loss: 2.8599 - accuracy: 0.3918 - val_loss: 2.8588 - val_accuracy: 0.3600\n",
            "Epoch 10/200\n",
            "113/113 [==============================] - 1s 5ms/step - loss: 2.7635 - accuracy: 0.4243 - val_loss: 2.8066 - val_accuracy: 0.4025\n",
            "Epoch 11/200\n",
            "113/113 [==============================] - 1s 5ms/step - loss: 2.7014 - accuracy: 0.4460 - val_loss: 2.7559 - val_accuracy: 0.3975\n",
            "Epoch 12/200\n",
            "113/113 [==============================] - 1s 5ms/step - loss: 2.6137 - accuracy: 0.4834 - val_loss: 2.6761 - val_accuracy: 0.4300\n",
            "Epoch 13/200\n",
            "113/113 [==============================] - 1s 5ms/step - loss: 2.5569 - accuracy: 0.5062 - val_loss: 2.6253 - val_accuracy: 0.4600\n",
            "Epoch 14/200\n",
            "113/113 [==============================] - 1s 6ms/step - loss: 2.5261 - accuracy: 0.5130 - val_loss: 2.5717 - val_accuracy: 0.4875\n",
            "Epoch 15/200\n",
            "113/113 [==============================] - 1s 5ms/step - loss: 2.4737 - accuracy: 0.5373 - val_loss: 2.5339 - val_accuracy: 0.5100\n",
            "Epoch 16/200\n",
            "113/113 [==============================] - 1s 6ms/step - loss: 2.4015 - accuracy: 0.5571 - val_loss: 2.5014 - val_accuracy: 0.4975\n",
            "Epoch 17/200\n",
            "113/113 [==============================] - 1s 5ms/step - loss: 2.3421 - accuracy: 0.5831 - val_loss: 2.4640 - val_accuracy: 0.5075\n",
            "Epoch 18/200\n",
            "113/113 [==============================] - 1s 5ms/step - loss: 2.3176 - accuracy: 0.5913 - val_loss: 2.3970 - val_accuracy: 0.5375\n",
            "Epoch 19/200\n",
            "113/113 [==============================] - 1s 5ms/step - loss: 2.2757 - accuracy: 0.6051 - val_loss: 2.3820 - val_accuracy: 0.5500\n",
            "Epoch 20/200\n",
            "113/113 [==============================] - 1s 5ms/step - loss: 2.2337 - accuracy: 0.6184 - val_loss: 2.3466 - val_accuracy: 0.5675\n",
            "Epoch 21/200\n",
            "113/113 [==============================] - 1s 5ms/step - loss: 2.2079 - accuracy: 0.6281 - val_loss: 2.2993 - val_accuracy: 0.5850\n",
            "Epoch 22/200\n",
            "113/113 [==============================] - 1s 5ms/step - loss: 2.1526 - accuracy: 0.6412 - val_loss: 2.2673 - val_accuracy: 0.6000\n",
            "Epoch 23/200\n",
            "113/113 [==============================] - 1s 5ms/step - loss: 2.0950 - accuracy: 0.6746 - val_loss: 2.2327 - val_accuracy: 0.6050\n",
            "Epoch 24/200\n",
            "113/113 [==============================] - 1s 5ms/step - loss: 2.0759 - accuracy: 0.6722 - val_loss: 2.1979 - val_accuracy: 0.6275\n",
            "Epoch 25/200\n",
            "113/113 [==============================] - 1s 5ms/step - loss: 2.0492 - accuracy: 0.6893 - val_loss: 2.1746 - val_accuracy: 0.6225\n",
            "Epoch 26/200\n",
            "113/113 [==============================] - 1s 5ms/step - loss: 2.0159 - accuracy: 0.7114 - val_loss: 2.1489 - val_accuracy: 0.6325\n",
            "Epoch 27/200\n",
            "113/113 [==============================] - 1s 5ms/step - loss: 1.9700 - accuracy: 0.7192 - val_loss: 2.1036 - val_accuracy: 0.6450\n",
            "Epoch 28/200\n",
            "113/113 [==============================] - 1s 5ms/step - loss: 1.9359 - accuracy: 0.7229 - val_loss: 2.0787 - val_accuracy: 0.6575\n",
            "Epoch 29/200\n",
            "113/113 [==============================] - 1s 5ms/step - loss: 1.9373 - accuracy: 0.7260 - val_loss: 2.0777 - val_accuracy: 0.6575\n",
            "Epoch 30/200\n",
            "113/113 [==============================] - 1s 5ms/step - loss: 1.8818 - accuracy: 0.7477 - val_loss: 2.0625 - val_accuracy: 0.6525\n",
            "Epoch 31/200\n",
            "113/113 [==============================] - 1s 5ms/step - loss: 1.8726 - accuracy: 0.7464 - val_loss: 2.0708 - val_accuracy: 0.6650\n",
            "Epoch 32/200\n",
            "113/113 [==============================] - 1s 5ms/step - loss: 1.8494 - accuracy: 0.7558 - val_loss: 2.0411 - val_accuracy: 0.6750\n",
            "Epoch 33/200\n",
            "113/113 [==============================] - 1s 5ms/step - loss: 1.8411 - accuracy: 0.7535 - val_loss: 1.9920 - val_accuracy: 0.7100\n",
            "Epoch 34/200\n",
            "113/113 [==============================] - 1s 5ms/step - loss: 1.7946 - accuracy: 0.7781 - val_loss: 1.9439 - val_accuracy: 0.7125\n",
            "Epoch 35/200\n",
            "113/113 [==============================] - 1s 5ms/step - loss: 1.7726 - accuracy: 0.7761 - val_loss: 2.0462 - val_accuracy: 0.6700\n",
            "Epoch 36/200\n",
            "113/113 [==============================] - 1s 5ms/step - loss: 1.7563 - accuracy: 0.7801 - val_loss: 1.9555 - val_accuracy: 0.7050\n",
            "Epoch 37/200\n",
            "113/113 [==============================] - 1s 5ms/step - loss: 1.7227 - accuracy: 0.8068 - val_loss: 1.9491 - val_accuracy: 0.7275\n",
            "Epoch 38/200\n",
            "113/113 [==============================] - 1s 6ms/step - loss: 1.6989 - accuracy: 0.8015 - val_loss: 1.8680 - val_accuracy: 0.7600\n",
            "Epoch 39/200\n",
            "113/113 [==============================] - 1s 5ms/step - loss: 1.6677 - accuracy: 0.8183 - val_loss: 1.8541 - val_accuracy: 0.7750\n",
            "Epoch 40/200\n",
            "113/113 [==============================] - 1s 5ms/step - loss: 1.6607 - accuracy: 0.8205 - val_loss: 1.8559 - val_accuracy: 0.7475\n",
            "Epoch 41/200\n",
            "113/113 [==============================] - 1s 5ms/step - loss: 1.6575 - accuracy: 0.8236 - val_loss: 1.8925 - val_accuracy: 0.7225\n",
            "Epoch 42/200\n",
            "113/113 [==============================] - 1s 5ms/step - loss: 1.6159 - accuracy: 0.8329 - val_loss: 1.8418 - val_accuracy: 0.7425\n",
            "Epoch 43/200\n",
            "113/113 [==============================] - 1s 5ms/step - loss: 1.6248 - accuracy: 0.8322 - val_loss: 1.8185 - val_accuracy: 0.7300\n",
            "Epoch 44/200\n",
            "113/113 [==============================] - 1s 5ms/step - loss: 1.6125 - accuracy: 0.8384 - val_loss: 1.7934 - val_accuracy: 0.7625\n",
            "Epoch 45/200\n",
            "113/113 [==============================] - 1s 6ms/step - loss: 1.5689 - accuracy: 0.8502 - val_loss: 1.7900 - val_accuracy: 0.7700\n",
            "Epoch 46/200\n",
            "113/113 [==============================] - 1s 5ms/step - loss: 1.5720 - accuracy: 0.8493 - val_loss: 1.7830 - val_accuracy: 0.7525\n",
            "Epoch 47/200\n",
            "113/113 [==============================] - 1s 5ms/step - loss: 1.5425 - accuracy: 0.8621 - val_loss: 1.7316 - val_accuracy: 0.7850\n",
            "Epoch 48/200\n",
            "113/113 [==============================] - 1s 5ms/step - loss: 1.5420 - accuracy: 0.8608 - val_loss: 1.7348 - val_accuracy: 0.7850\n",
            "Epoch 49/200\n",
            "113/113 [==============================] - 1s 6ms/step - loss: 1.5119 - accuracy: 0.8729 - val_loss: 1.7335 - val_accuracy: 0.7650\n",
            "Epoch 50/200\n",
            "113/113 [==============================] - 1s 5ms/step - loss: 1.5088 - accuracy: 0.8723 - val_loss: 1.7264 - val_accuracy: 0.7825\n",
            "Epoch 51/200\n",
            "113/113 [==============================] - 1s 6ms/step - loss: 1.5155 - accuracy: 0.8637 - val_loss: 1.7224 - val_accuracy: 0.8025\n",
            "Epoch 52/200\n",
            "113/113 [==============================] - 1s 6ms/step - loss: 1.5006 - accuracy: 0.8750 - val_loss: 1.7216 - val_accuracy: 0.7975\n",
            "Epoch 53/200\n",
            "113/113 [==============================] - 1s 5ms/step - loss: 1.4718 - accuracy: 0.8830 - val_loss: 1.7027 - val_accuracy: 0.7900\n",
            "Epoch 54/200\n",
            "113/113 [==============================] - 1s 5ms/step - loss: 1.4675 - accuracy: 0.8793 - val_loss: 1.6849 - val_accuracy: 0.8025\n",
            "Epoch 55/200\n",
            "113/113 [==============================] - 1s 6ms/step - loss: 1.4488 - accuracy: 0.8951 - val_loss: 1.6879 - val_accuracy: 0.7950\n",
            "Epoch 56/200\n",
            "113/113 [==============================] - 1s 5ms/step - loss: 1.4401 - accuracy: 0.8853 - val_loss: 1.6749 - val_accuracy: 0.8200\n",
            "Epoch 57/200\n",
            "113/113 [==============================] - 1s 5ms/step - loss: 1.4181 - accuracy: 0.9007 - val_loss: 1.7268 - val_accuracy: 0.7675\n",
            "Epoch 58/200\n",
            "113/113 [==============================] - 1s 5ms/step - loss: 1.4152 - accuracy: 0.9041 - val_loss: 1.6528 - val_accuracy: 0.7950\n",
            "Epoch 59/200\n",
            "113/113 [==============================] - 1s 5ms/step - loss: 1.3907 - accuracy: 0.9147 - val_loss: 1.6545 - val_accuracy: 0.8075\n",
            "Epoch 60/200\n",
            "113/113 [==============================] - 1s 5ms/step - loss: 1.4002 - accuracy: 0.9056 - val_loss: 1.6441 - val_accuracy: 0.8100\n",
            "Epoch 61/200\n",
            "113/113 [==============================] - 1s 5ms/step - loss: 1.3763 - accuracy: 0.9161 - val_loss: 1.6615 - val_accuracy: 0.7900\n",
            "Epoch 62/200\n",
            "113/113 [==============================] - 1s 5ms/step - loss: 1.3791 - accuracy: 0.9123 - val_loss: 1.6461 - val_accuracy: 0.8025\n",
            "Epoch 63/200\n",
            "113/113 [==============================] - 1s 6ms/step - loss: 1.3712 - accuracy: 0.9130 - val_loss: 1.6755 - val_accuracy: 0.8050\n",
            "Epoch 64/200\n",
            "113/113 [==============================] - 1s 5ms/step - loss: 1.3680 - accuracy: 0.9152 - val_loss: 1.6409 - val_accuracy: 0.8375\n",
            "Epoch 65/200\n",
            "113/113 [==============================] - 1s 5ms/step - loss: 1.3606 - accuracy: 0.9143 - val_loss: 1.6431 - val_accuracy: 0.8200\n",
            "Epoch 66/200\n",
            "113/113 [==============================] - 1s 5ms/step - loss: 1.3466 - accuracy: 0.9254 - val_loss: 1.6297 - val_accuracy: 0.8100\n",
            "Epoch 67/200\n",
            "113/113 [==============================] - 1s 5ms/step - loss: 1.3283 - accuracy: 0.9315 - val_loss: 1.5833 - val_accuracy: 0.8400\n",
            "Epoch 68/200\n",
            "113/113 [==============================] - 1s 5ms/step - loss: 1.3212 - accuracy: 0.9296 - val_loss: 1.5948 - val_accuracy: 0.8375\n",
            "Epoch 69/200\n",
            "113/113 [==============================] - 1s 5ms/step - loss: 1.2991 - accuracy: 0.9488 - val_loss: 1.6208 - val_accuracy: 0.8175\n",
            "Epoch 70/200\n",
            "113/113 [==============================] - 1s 5ms/step - loss: 1.3054 - accuracy: 0.9296 - val_loss: 1.6299 - val_accuracy: 0.8225\n",
            "Epoch 71/200\n",
            "113/113 [==============================] - 1s 5ms/step - loss: 1.3068 - accuracy: 0.9310 - val_loss: 1.6218 - val_accuracy: 0.8200\n",
            "Epoch 72/200\n",
            "113/113 [==============================] - 1s 5ms/step - loss: 1.2967 - accuracy: 0.9353 - val_loss: 1.6012 - val_accuracy: 0.8150\n",
            "Epoch 73/200\n",
            "113/113 [==============================] - 1s 5ms/step - loss: 1.2857 - accuracy: 0.9387 - val_loss: 1.5904 - val_accuracy: 0.8375\n",
            "Epoch 74/200\n",
            "113/113 [==============================] - 1s 5ms/step - loss: 1.2711 - accuracy: 0.9462 - val_loss: 1.5790 - val_accuracy: 0.8475\n",
            "Epoch 75/200\n",
            "113/113 [==============================] - 1s 5ms/step - loss: 1.2725 - accuracy: 0.9423 - val_loss: 1.5684 - val_accuracy: 0.8425\n",
            "Epoch 76/200\n",
            "113/113 [==============================] - 1s 5ms/step - loss: 1.2576 - accuracy: 0.9476 - val_loss: 1.5668 - val_accuracy: 0.8425\n",
            "Epoch 77/200\n",
            "113/113 [==============================] - 1s 5ms/step - loss: 1.2564 - accuracy: 0.9482 - val_loss: 1.5684 - val_accuracy: 0.8450\n",
            "Epoch 78/200\n",
            "113/113 [==============================] - 1s 5ms/step - loss: 1.2552 - accuracy: 0.9500 - val_loss: 1.5683 - val_accuracy: 0.8375\n",
            "Epoch 79/200\n",
            "113/113 [==============================] - 1s 5ms/step - loss: 1.2502 - accuracy: 0.9463 - val_loss: 1.5563 - val_accuracy: 0.8250\n",
            "Epoch 80/200\n",
            "113/113 [==============================] - 1s 5ms/step - loss: 1.2588 - accuracy: 0.9439 - val_loss: 1.5643 - val_accuracy: 0.8400\n",
            "Epoch 81/200\n",
            "113/113 [==============================] - 1s 5ms/step - loss: 1.2284 - accuracy: 0.9523 - val_loss: 1.5529 - val_accuracy: 0.8500\n",
            "Epoch 82/200\n",
            "113/113 [==============================] - 1s 6ms/step - loss: 1.2294 - accuracy: 0.9563 - val_loss: 1.5623 - val_accuracy: 0.8300\n",
            "Epoch 83/200\n",
            "113/113 [==============================] - 1s 5ms/step - loss: 1.2365 - accuracy: 0.9590 - val_loss: 1.5699 - val_accuracy: 0.8375\n",
            "Epoch 84/200\n",
            "113/113 [==============================] - 1s 6ms/step - loss: 1.2144 - accuracy: 0.9577 - val_loss: 1.5910 - val_accuracy: 0.8350\n",
            "Epoch 85/200\n",
            "113/113 [==============================] - 1s 5ms/step - loss: 1.2171 - accuracy: 0.9566 - val_loss: 1.5453 - val_accuracy: 0.8525\n",
            "Epoch 86/200\n",
            "113/113 [==============================] - 1s 5ms/step - loss: 1.2100 - accuracy: 0.9542 - val_loss: 1.5578 - val_accuracy: 0.8275\n",
            "Epoch 87/200\n",
            "113/113 [==============================] - 1s 5ms/step - loss: 1.2076 - accuracy: 0.9550 - val_loss: 1.5255 - val_accuracy: 0.8600\n",
            "Epoch 88/200\n",
            "113/113 [==============================] - 1s 5ms/step - loss: 1.1993 - accuracy: 0.9645 - val_loss: 1.5383 - val_accuracy: 0.8500\n",
            "Epoch 89/200\n",
            "113/113 [==============================] - 1s 5ms/step - loss: 1.1897 - accuracy: 0.9659 - val_loss: 1.5452 - val_accuracy: 0.8575\n",
            "Epoch 90/200\n",
            "113/113 [==============================] - 1s 5ms/step - loss: 1.1870 - accuracy: 0.9645 - val_loss: 1.5353 - val_accuracy: 0.8375\n",
            "Epoch 91/200\n",
            "113/113 [==============================] - 1s 5ms/step - loss: 1.1839 - accuracy: 0.9669 - val_loss: 1.5342 - val_accuracy: 0.8325\n",
            "Epoch 92/200\n",
            "113/113 [==============================] - 1s 5ms/step - loss: 1.1751 - accuracy: 0.9688 - val_loss: 1.5196 - val_accuracy: 0.8475\n",
            "Epoch 93/200\n",
            "113/113 [==============================] - 1s 5ms/step - loss: 1.1709 - accuracy: 0.9711 - val_loss: 1.5182 - val_accuracy: 0.8550\n",
            "Epoch 94/200\n",
            "113/113 [==============================] - 1s 5ms/step - loss: 1.1689 - accuracy: 0.9691 - val_loss: 1.5190 - val_accuracy: 0.8475\n",
            "Epoch 95/200\n",
            "113/113 [==============================] - 1s 6ms/step - loss: 1.1606 - accuracy: 0.9689 - val_loss: 1.5431 - val_accuracy: 0.8475\n",
            "Epoch 96/200\n",
            "113/113 [==============================] - 1s 5ms/step - loss: 1.1702 - accuracy: 0.9641 - val_loss: 1.5632 - val_accuracy: 0.8375\n",
            "Epoch 97/200\n",
            "113/113 [==============================] - 1s 5ms/step - loss: 1.1516 - accuracy: 0.9752 - val_loss: 1.4977 - val_accuracy: 0.8500\n",
            "Epoch 98/200\n",
            "113/113 [==============================] - 1s 5ms/step - loss: 1.1517 - accuracy: 0.9723 - val_loss: 1.4989 - val_accuracy: 0.8525\n",
            "Epoch 99/200\n",
            "113/113 [==============================] - 1s 6ms/step - loss: 1.1428 - accuracy: 0.9751 - val_loss: 1.4963 - val_accuracy: 0.8650\n",
            "Epoch 100/200\n",
            "113/113 [==============================] - 1s 5ms/step - loss: 1.1373 - accuracy: 0.9794 - val_loss: 1.5246 - val_accuracy: 0.8475\n",
            "Epoch 101/200\n",
            "113/113 [==============================] - 1s 5ms/step - loss: 1.1426 - accuracy: 0.9744 - val_loss: 1.4927 - val_accuracy: 0.8550\n",
            "Epoch 102/200\n",
            "113/113 [==============================] - 1s 6ms/step - loss: 1.1345 - accuracy: 0.9742 - val_loss: 1.5343 - val_accuracy: 0.8500\n",
            "Epoch 103/200\n",
            "113/113 [==============================] - 1s 5ms/step - loss: 1.1303 - accuracy: 0.9746 - val_loss: 1.4876 - val_accuracy: 0.8600\n",
            "Epoch 104/200\n",
            "113/113 [==============================] - 1s 5ms/step - loss: 1.1242 - accuracy: 0.9751 - val_loss: 1.4834 - val_accuracy: 0.8625\n",
            "Epoch 105/200\n",
            "113/113 [==============================] - 1s 5ms/step - loss: 1.1115 - accuracy: 0.9819 - val_loss: 1.4643 - val_accuracy: 0.8650\n",
            "Epoch 106/200\n",
            "113/113 [==============================] - 1s 5ms/step - loss: 1.1090 - accuracy: 0.9819 - val_loss: 1.5063 - val_accuracy: 0.8625\n",
            "Epoch 107/200\n",
            "113/113 [==============================] - 1s 6ms/step - loss: 1.1120 - accuracy: 0.9826 - val_loss: 1.4635 - val_accuracy: 0.8675\n",
            "Epoch 108/200\n",
            "113/113 [==============================] - 1s 5ms/step - loss: 1.1040 - accuracy: 0.9853 - val_loss: 1.4869 - val_accuracy: 0.8525\n",
            "Epoch 109/200\n",
            "113/113 [==============================] - 1s 5ms/step - loss: 1.1100 - accuracy: 0.9798 - val_loss: 1.4679 - val_accuracy: 0.8625\n",
            "Epoch 110/200\n",
            "113/113 [==============================] - 1s 6ms/step - loss: 1.1058 - accuracy: 0.9774 - val_loss: 1.4667 - val_accuracy: 0.8725\n",
            "Epoch 111/200\n",
            "113/113 [==============================] - 1s 5ms/step - loss: 1.0924 - accuracy: 0.9846 - val_loss: 1.4585 - val_accuracy: 0.8575\n",
            "Epoch 112/200\n",
            "113/113 [==============================] - 1s 6ms/step - loss: 1.0935 - accuracy: 0.9848 - val_loss: 1.4688 - val_accuracy: 0.8550\n",
            "Epoch 113/200\n",
            "113/113 [==============================] - 1s 6ms/step - loss: 1.0835 - accuracy: 0.9890 - val_loss: 1.4492 - val_accuracy: 0.8775\n",
            "Epoch 114/200\n",
            "113/113 [==============================] - 1s 6ms/step - loss: 1.0834 - accuracy: 0.9893 - val_loss: 1.4789 - val_accuracy: 0.8600\n",
            "Epoch 115/200\n",
            "113/113 [==============================] - 1s 6ms/step - loss: 1.0870 - accuracy: 0.9849 - val_loss: 1.4527 - val_accuracy: 0.8650\n",
            "Epoch 116/200\n",
            "113/113 [==============================] - 1s 6ms/step - loss: 1.0726 - accuracy: 0.9884 - val_loss: 1.4530 - val_accuracy: 0.8650\n",
            "Epoch 117/200\n",
            "113/113 [==============================] - 1s 6ms/step - loss: 1.0714 - accuracy: 0.9889 - val_loss: 1.4595 - val_accuracy: 0.8650\n",
            "Epoch 118/200\n",
            "113/113 [==============================] - 1s 6ms/step - loss: 1.0745 - accuracy: 0.9849 - val_loss: 1.4570 - val_accuracy: 0.8675\n",
            "Epoch 119/200\n",
            "113/113 [==============================] - 1s 6ms/step - loss: 1.0666 - accuracy: 0.9903 - val_loss: 1.4608 - val_accuracy: 0.8525\n",
            "Epoch 120/200\n",
            "113/113 [==============================] - 1s 6ms/step - loss: 1.0642 - accuracy: 0.9879 - val_loss: 1.4339 - val_accuracy: 0.8575\n",
            "Epoch 121/200\n",
            "113/113 [==============================] - 1s 6ms/step - loss: 1.0659 - accuracy: 0.9903 - val_loss: 1.4471 - val_accuracy: 0.8725\n",
            "Epoch 122/200\n",
            "113/113 [==============================] - 1s 5ms/step - loss: 1.0567 - accuracy: 0.9901 - val_loss: 1.4559 - val_accuracy: 0.8675\n",
            "Epoch 123/200\n",
            "113/113 [==============================] - 1s 5ms/step - loss: 1.0548 - accuracy: 0.9895 - val_loss: 1.4619 - val_accuracy: 0.8625\n",
            "Epoch 124/200\n",
            "113/113 [==============================] - 1s 6ms/step - loss: 1.0471 - accuracy: 0.9941 - val_loss: 1.4384 - val_accuracy: 0.8675\n",
            "Epoch 125/200\n",
            "113/113 [==============================] - 1s 6ms/step - loss: 1.0446 - accuracy: 0.9903 - val_loss: 1.4422 - val_accuracy: 0.8650\n",
            "Epoch 126/200\n",
            "113/113 [==============================] - 1s 6ms/step - loss: 1.0466 - accuracy: 0.9912 - val_loss: 1.4690 - val_accuracy: 0.8525\n",
            "Epoch 127/200\n",
            "113/113 [==============================] - 1s 5ms/step - loss: 1.0433 - accuracy: 0.9923 - val_loss: 1.4476 - val_accuracy: 0.8700\n",
            "Epoch 128/200\n",
            "113/113 [==============================] - 1s 5ms/step - loss: 1.0365 - accuracy: 0.9909 - val_loss: 1.4218 - val_accuracy: 0.8750\n",
            "Epoch 129/200\n",
            "113/113 [==============================] - 1s 6ms/step - loss: 1.0419 - accuracy: 0.9897 - val_loss: 1.4410 - val_accuracy: 0.8700\n",
            "Epoch 130/200\n",
            "113/113 [==============================] - 1s 6ms/step - loss: 1.0336 - accuracy: 0.9943 - val_loss: 1.4594 - val_accuracy: 0.8675\n",
            "Epoch 131/200\n",
            "113/113 [==============================] - 1s 5ms/step - loss: 1.0370 - accuracy: 0.9894 - val_loss: 1.4534 - val_accuracy: 0.8750\n",
            "Epoch 132/200\n",
            "113/113 [==============================] - 1s 5ms/step - loss: 1.0306 - accuracy: 0.9918 - val_loss: 1.4111 - val_accuracy: 0.8675\n",
            "Epoch 133/200\n",
            "113/113 [==============================] - 1s 6ms/step - loss: 1.0264 - accuracy: 0.9933 - val_loss: 1.4588 - val_accuracy: 0.8650\n",
            "Epoch 134/200\n",
            "113/113 [==============================] - 1s 6ms/step - loss: 1.0187 - accuracy: 0.9956 - val_loss: 1.4249 - val_accuracy: 0.8725\n",
            "Epoch 135/200\n",
            "113/113 [==============================] - 1s 6ms/step - loss: 1.0163 - accuracy: 0.9947 - val_loss: 1.4273 - val_accuracy: 0.8725\n",
            "Epoch 136/200\n",
            "113/113 [==============================] - 1s 5ms/step - loss: 1.0164 - accuracy: 0.9963 - val_loss: 1.4212 - val_accuracy: 0.8650\n",
            "Epoch 137/200\n",
            "113/113 [==============================] - 1s 5ms/step - loss: 1.0125 - accuracy: 0.9967 - val_loss: 1.4423 - val_accuracy: 0.8750\n",
            "Epoch 138/200\n",
            "113/113 [==============================] - 1s 5ms/step - loss: 1.0115 - accuracy: 0.9938 - val_loss: 1.4126 - val_accuracy: 0.8650\n",
            "Epoch 139/200\n",
            "113/113 [==============================] - 1s 7ms/step - loss: 1.0088 - accuracy: 0.9945 - val_loss: 1.4040 - val_accuracy: 0.8700\n",
            "Epoch 140/200\n",
            "113/113 [==============================] - 1s 5ms/step - loss: 1.0066 - accuracy: 0.9961 - val_loss: 1.4243 - val_accuracy: 0.8675\n",
            "Epoch 141/200\n",
            "113/113 [==============================] - 1s 6ms/step - loss: 1.0023 - accuracy: 0.9954 - val_loss: 1.3968 - val_accuracy: 0.8625\n",
            "Epoch 142/200\n",
            "113/113 [==============================] - 1s 5ms/step - loss: 1.0014 - accuracy: 0.9971 - val_loss: 1.4072 - val_accuracy: 0.8750\n",
            "Epoch 143/200\n",
            "113/113 [==============================] - 1s 5ms/step - loss: 1.0021 - accuracy: 0.9955 - val_loss: 1.3965 - val_accuracy: 0.8725\n",
            "Epoch 144/200\n",
            "113/113 [==============================] - 1s 6ms/step - loss: 0.9949 - accuracy: 0.9965 - val_loss: 1.4028 - val_accuracy: 0.8775\n",
            "Epoch 145/200\n",
            "113/113 [==============================] - 1s 6ms/step - loss: 0.9921 - accuracy: 0.9974 - val_loss: 1.3853 - val_accuracy: 0.8725\n",
            "Epoch 146/200\n",
            "113/113 [==============================] - 1s 6ms/step - loss: 0.9895 - accuracy: 0.9966 - val_loss: 1.3878 - val_accuracy: 0.8650\n",
            "Epoch 147/200\n",
            "113/113 [==============================] - 1s 6ms/step - loss: 0.9873 - accuracy: 0.9975 - val_loss: 1.3863 - val_accuracy: 0.8750\n",
            "Epoch 148/200\n",
            "113/113 [==============================] - 1s 5ms/step - loss: 0.9850 - accuracy: 0.9980 - val_loss: 1.3960 - val_accuracy: 0.8750\n",
            "Epoch 149/200\n",
            "113/113 [==============================] - 1s 6ms/step - loss: 0.9838 - accuracy: 0.9982 - val_loss: 1.4202 - val_accuracy: 0.8775\n",
            "Epoch 150/200\n",
            "113/113 [==============================] - 1s 6ms/step - loss: 0.9815 - accuracy: 0.9961 - val_loss: 1.3882 - val_accuracy: 0.8750\n",
            "Epoch 151/200\n",
            "113/113 [==============================] - 1s 6ms/step - loss: 0.9776 - accuracy: 0.9979 - val_loss: 1.3974 - val_accuracy: 0.8750\n",
            "Epoch 152/200\n",
            "113/113 [==============================] - 1s 5ms/step - loss: 0.9769 - accuracy: 0.9991 - val_loss: 1.3781 - val_accuracy: 0.8750\n",
            "Epoch 153/200\n",
            "113/113 [==============================] - 1s 5ms/step - loss: 0.9748 - accuracy: 0.9990 - val_loss: 1.3875 - val_accuracy: 0.8675\n",
            "Epoch 154/200\n",
            "113/113 [==============================] - 1s 6ms/step - loss: 0.9700 - accuracy: 0.9992 - val_loss: 1.3779 - val_accuracy: 0.8675\n",
            "Epoch 155/200\n",
            "113/113 [==============================] - 1s 6ms/step - loss: 0.9680 - accuracy: 0.9991 - val_loss: 1.3741 - val_accuracy: 0.8750\n",
            "Epoch 156/200\n",
            "113/113 [==============================] - 1s 6ms/step - loss: 0.9652 - accuracy: 0.9991 - val_loss: 1.3721 - val_accuracy: 0.8750\n",
            "Epoch 157/200\n",
            "113/113 [==============================] - 1s 6ms/step - loss: 0.9673 - accuracy: 0.9999 - val_loss: 1.3735 - val_accuracy: 0.8775\n",
            "Epoch 158/200\n",
            "113/113 [==============================] - 1s 6ms/step - loss: 0.9617 - accuracy: 0.9983 - val_loss: 1.3872 - val_accuracy: 0.8825\n",
            "Epoch 159/200\n",
            "113/113 [==============================] - 1s 5ms/step - loss: 0.9588 - accuracy: 0.9992 - val_loss: 1.3714 - val_accuracy: 0.8775\n",
            "Epoch 160/200\n",
            "113/113 [==============================] - 1s 6ms/step - loss: 0.9594 - accuracy: 0.9984 - val_loss: 1.3723 - val_accuracy: 0.8725\n",
            "Epoch 161/200\n",
            "113/113 [==============================] - 1s 6ms/step - loss: 0.9554 - accuracy: 0.9995 - val_loss: 1.3658 - val_accuracy: 0.8775\n",
            "Epoch 162/200\n",
            "113/113 [==============================] - 1s 5ms/step - loss: 0.9541 - accuracy: 0.9985 - val_loss: 1.3615 - val_accuracy: 0.8800\n",
            "Epoch 163/200\n",
            "113/113 [==============================] - 1s 6ms/step - loss: 0.9510 - accuracy: 0.9992 - val_loss: 1.3556 - val_accuracy: 0.8725\n",
            "Epoch 164/200\n",
            "113/113 [==============================] - 1s 5ms/step - loss: 0.9457 - accuracy: 0.9992 - val_loss: 1.3541 - val_accuracy: 0.8825\n",
            "Epoch 165/200\n",
            "113/113 [==============================] - 1s 5ms/step - loss: 0.9483 - accuracy: 0.9971 - val_loss: 1.3552 - val_accuracy: 0.8725\n",
            "Epoch 166/200\n",
            "113/113 [==============================] - 1s 5ms/step - loss: 0.9427 - accuracy: 0.9996 - val_loss: 1.3480 - val_accuracy: 0.8800\n",
            "Epoch 167/200\n",
            "113/113 [==============================] - 1s 6ms/step - loss: 0.9420 - accuracy: 0.9995 - val_loss: 1.3551 - val_accuracy: 0.8800\n",
            "Epoch 168/200\n",
            "113/113 [==============================] - 1s 6ms/step - loss: 0.9401 - accuracy: 0.9993 - val_loss: 1.3957 - val_accuracy: 0.8600\n",
            "Epoch 169/200\n",
            "113/113 [==============================] - 1s 5ms/step - loss: 0.9410 - accuracy: 0.9993 - val_loss: 1.3387 - val_accuracy: 0.8875\n",
            "Epoch 170/200\n",
            "113/113 [==============================] - 1s 5ms/step - loss: 0.9361 - accuracy: 0.9998 - val_loss: 1.3363 - val_accuracy: 0.8875\n",
            "Epoch 171/200\n",
            "113/113 [==============================] - 1s 6ms/step - loss: 0.9350 - accuracy: 0.9994 - val_loss: 1.3292 - val_accuracy: 0.8800\n",
            "Epoch 172/200\n",
            "113/113 [==============================] - 1s 6ms/step - loss: 0.9320 - accuracy: 0.9992 - val_loss: 1.3377 - val_accuracy: 0.8750\n",
            "Epoch 173/200\n",
            "113/113 [==============================] - 1s 6ms/step - loss: 0.9282 - accuracy: 0.9997 - val_loss: 1.3386 - val_accuracy: 0.8725\n",
            "Epoch 174/200\n",
            "113/113 [==============================] - 1s 6ms/step - loss: 0.9281 - accuracy: 0.9998 - val_loss: 1.3330 - val_accuracy: 0.8750\n",
            "Epoch 175/200\n",
            "113/113 [==============================] - 1s 5ms/step - loss: 0.9250 - accuracy: 1.0000 - val_loss: 1.3509 - val_accuracy: 0.8775\n",
            "Epoch 176/200\n",
            "113/113 [==============================] - 1s 5ms/step - loss: 0.9235 - accuracy: 0.9999 - val_loss: 1.3455 - val_accuracy: 0.8800\n",
            "Epoch 177/200\n",
            "113/113 [==============================] - 1s 6ms/step - loss: 0.9235 - accuracy: 0.9997 - val_loss: 1.3302 - val_accuracy: 0.8825\n",
            "Epoch 178/200\n",
            "113/113 [==============================] - 1s 6ms/step - loss: 0.9191 - accuracy: 0.9991 - val_loss: 1.3289 - val_accuracy: 0.8800\n",
            "Epoch 179/200\n",
            "113/113 [==============================] - 1s 6ms/step - loss: 0.9170 - accuracy: 0.9998 - val_loss: 1.3311 - val_accuracy: 0.8875\n",
            "Epoch 180/200\n",
            "113/113 [==============================] - 1s 6ms/step - loss: 0.9155 - accuracy: 1.0000 - val_loss: 1.3205 - val_accuracy: 0.8800\n",
            "Epoch 181/200\n",
            "113/113 [==============================] - 1s 5ms/step - loss: 0.9135 - accuracy: 1.0000 - val_loss: 1.3109 - val_accuracy: 0.8875\n",
            "Epoch 182/200\n",
            "113/113 [==============================] - 1s 7ms/step - loss: 0.9110 - accuracy: 1.0000 - val_loss: 1.3171 - val_accuracy: 0.8750\n",
            "Epoch 183/200\n",
            "113/113 [==============================] - 1s 5ms/step - loss: 0.9122 - accuracy: 0.9998 - val_loss: 1.3195 - val_accuracy: 0.8775\n",
            "Epoch 184/200\n",
            "113/113 [==============================] - 1s 6ms/step - loss: 0.9086 - accuracy: 1.0000 - val_loss: 1.3086 - val_accuracy: 0.8800\n",
            "Epoch 185/200\n",
            "113/113 [==============================] - 1s 5ms/step - loss: 0.9066 - accuracy: 1.0000 - val_loss: 1.3212 - val_accuracy: 0.8725\n",
            "Epoch 186/200\n",
            "113/113 [==============================] - 1s 6ms/step - loss: 0.9045 - accuracy: 0.9999 - val_loss: 1.3172 - val_accuracy: 0.8900\n",
            "Epoch 187/200\n",
            "113/113 [==============================] - 1s 5ms/step - loss: 0.9012 - accuracy: 1.0000 - val_loss: 1.3078 - val_accuracy: 0.8825\n",
            "Epoch 188/200\n",
            "113/113 [==============================] - 1s 6ms/step - loss: 0.8989 - accuracy: 1.0000 - val_loss: 1.3139 - val_accuracy: 0.8875\n",
            "Epoch 189/200\n",
            "113/113 [==============================] - 1s 6ms/step - loss: 0.8970 - accuracy: 0.9997 - val_loss: 1.3179 - val_accuracy: 0.8800\n",
            "Epoch 190/200\n",
            "113/113 [==============================] - 1s 6ms/step - loss: 0.8964 - accuracy: 1.0000 - val_loss: 1.3077 - val_accuracy: 0.8775\n",
            "Epoch 191/200\n",
            "113/113 [==============================] - 1s 6ms/step - loss: 0.8948 - accuracy: 1.0000 - val_loss: 1.3162 - val_accuracy: 0.8875\n",
            "Epoch 192/200\n",
            "113/113 [==============================] - 1s 6ms/step - loss: 0.8944 - accuracy: 1.0000 - val_loss: 1.3021 - val_accuracy: 0.8850\n",
            "Epoch 193/200\n",
            "113/113 [==============================] - 1s 6ms/step - loss: 0.8913 - accuracy: 1.0000 - val_loss: 1.3018 - val_accuracy: 0.8800\n",
            "Epoch 194/200\n",
            "113/113 [==============================] - 1s 6ms/step - loss: 0.8888 - accuracy: 1.0000 - val_loss: 1.2939 - val_accuracy: 0.8825\n",
            "Epoch 195/200\n",
            "113/113 [==============================] - 1s 6ms/step - loss: 0.8862 - accuracy: 1.0000 - val_loss: 1.2948 - val_accuracy: 0.8875\n",
            "Epoch 196/200\n",
            "113/113 [==============================] - 1s 6ms/step - loss: 0.8859 - accuracy: 1.0000 - val_loss: 1.3043 - val_accuracy: 0.8825\n",
            "Epoch 197/200\n",
            "113/113 [==============================] - 1s 5ms/step - loss: 0.8831 - accuracy: 1.0000 - val_loss: 1.2945 - val_accuracy: 0.8875\n",
            "Epoch 198/200\n",
            "113/113 [==============================] - 1s 6ms/step - loss: 0.8809 - accuracy: 1.0000 - val_loss: 1.2981 - val_accuracy: 0.8900\n",
            "Epoch 199/200\n",
            "113/113 [==============================] - 1s 5ms/step - loss: 0.8789 - accuracy: 1.0000 - val_loss: 1.2817 - val_accuracy: 0.8750\n",
            "Epoch 200/200\n",
            "113/113 [==============================] - 1s 6ms/step - loss: 0.8777 - accuracy: 1.0000 - val_loss: 1.2844 - val_accuracy: 0.8925\n"
          ],
          "name": "stdout"
        },
        {
          "output_type": "execute_result",
          "data": {
            "text/plain": [
              "<tensorflow.python.keras.callbacks.History at 0x7fab8b3cf780>"
            ]
          },
          "metadata": {
            "tags": []
          },
          "execution_count": 9
        }
      ]
    },
    {
      "cell_type": "markdown",
      "metadata": {
        "id": "rn3RY4KTt4nS"
      },
      "source": [
        "Save the model"
      ]
    },
    {
      "cell_type": "code",
      "metadata": {
        "id": "NQRHJMjpRA4H"
      },
      "source": [
        "model.save('MNIST1D.h5')"
      ],
      "execution_count": null,
      "outputs": []
    },
    {
      "cell_type": "markdown",
      "metadata": {
        "id": "i2ajdUlDzQdM"
      },
      "source": [
        "# Plotting the training progress"
      ]
    },
    {
      "cell_type": "markdown",
      "metadata": {
        "id": "YXvUxEAtQKv_"
      },
      "source": [
        "# Load the model"
      ]
    },
    {
      "cell_type": "code",
      "metadata": {
        "id": "qU5lRJUUQM__"
      },
      "source": [
        "model=load_model('MNIST1D.h5')"
      ],
      "execution_count": null,
      "outputs": []
    },
    {
      "cell_type": "markdown",
      "metadata": {
        "id": "2sZh_P6Xt9J4"
      },
      "source": [
        "Loading training progress\r\n",
        "\r\n"
      ]
    },
    {
      "cell_type": "code",
      "metadata": {
        "id": "GixoKeUrt_rE"
      },
      "source": [
        "def my_summary_iterator(path):\r\n",
        "  for r in tf_record.tf_record_iterator(path):\r\n",
        "    yield event_pb2.Event.FromString(r)\r\n",
        "train_acc = []\r\n",
        "train_loss = []\r\n",
        "train_lr = []\r\n",
        "#print('log/train/' + os.listdir('log/train')[2])\r\n",
        "for e in my_summary_iterator('log/train/' + os.listdir('log/train')[2]):\r\n",
        "  for v in e.summary.value:\r\n",
        "    if v.tag == 'epoch_accuracy':\r\n",
        "      train_acc.append(v.simple_value)\r\n",
        "    elif v.tag == 'epoch_loss':\r\n",
        "      train_loss.append(v.simple_value)"
      ],
      "execution_count": null,
      "outputs": []
    },
    {
      "cell_type": "code",
      "metadata": {
        "colab": {
          "base_uri": "https://localhost:8080/",
          "height": 312
        },
        "id": "-yTpC15SuBMX",
        "outputId": "bc3f8fab-a7b8-45d2-db62-6b0578894804"
      },
      "source": [
        "plt.plot(np.arange(len(train_acc)), train_acc)\r\n",
        "plt.xlabel('Epoch')\r\n",
        "plt.ylabel('Training Accuracy')\r\n",
        "plt.title('Training progress: Accuracy')"
      ],
      "execution_count": null,
      "outputs": [
        {
          "output_type": "execute_result",
          "data": {
            "text/plain": [
              "Text(0.5, 1.0, 'Training progress: Accuracy')"
            ]
          },
          "metadata": {
            "tags": []
          },
          "execution_count": 42
        },
        {
          "output_type": "display_data",
          "data": {
            "image/png": "[encoded data removed]",
            "text/plain": [
              "<Figure size 432x288 with 1 Axes>"
            ]
          },
          "metadata": {
            "tags": [],
            "needs_background": "light"
          }
        }
      ]
    },
    {
      "cell_type": "code",
      "metadata": {
        "colab": {
          "base_uri": "https://localhost:8080/",
          "height": 312
        },
        "id": "w5UirpZnvwUK",
        "outputId": "bc7327eb-1074-4ee6-b744-6b508c7b91d6"
      },
      "source": [
        "plt.plot(np.arange(len(train_loss)), train_loss)\r\n",
        "plt.xlabel('Epoch')\r\n",
        "plt.ylabel('Training Loss')\r\n",
        "plt.title('Training progress: Loss')"
      ],
      "execution_count": null,
      "outputs": [
        {
          "output_type": "execute_result",
          "data": {
            "text/plain": [
              "Text(0.5, 1.0, 'Training progress: Loss')"
            ]
          },
          "metadata": {
            "tags": []
          },
          "execution_count": 43
        },
        {
          "output_type": "display_data",
          "data": {
            "image/png": "[encoded data removed]",
            "text/plain": [
              "<Figure size 432x288 with 1 Axes>"
            ]
          },
          "metadata": {
            "tags": [],
            "needs_background": "light"
          }
        }
      ]
    }
  ]
}