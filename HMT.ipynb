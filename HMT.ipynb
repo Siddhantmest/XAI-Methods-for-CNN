{
  "nbformat": 4,
  "nbformat_minor": 0,
  "metadata": {
    "colab": {
      "name": "HMT.ipynb",
      "provenance": [],
      "collapsed_sections": [
        "6RKtE7d0YAG2",
        "calsYefrYC1P",
        "-q-2qXovYJQ6",
        "Kvv6IX1-8n3O",
        "vHXAMFq68q8p",
        "zcPaIZw0-64V",
        "eFnbIyRflKIJ",
        "i42jHJAMlPxU",
        "UtaAc1QTlX_8",
        "_zJajjz3xtOY",
        "wngWZcQ92jSL"
      ]
    },
    "kernelspec": {
      "name": "python3",
      "display_name": "Python 3"
    },
    "accelerator": "GPU"
  },
  "cells": [
    {
      "cell_type": "code",
      "metadata": {
        "colab": {
          "base_uri": "https://localhost:8080/"
        },
        "id": "LpFRkPsrSR5Y",
        "outputId": "18f208e6-0c0d-4a10-e32b-5916cd3fb387"
      },
      "source": [
        "from google.colab import drive\r\n",
        "drive.mount('/content/drive')"
      ],
      "execution_count": null,
      "outputs": [
        {
          "output_type": "stream",
          "text": [
            "Drive already mounted at /content/drive; to attempt to forcibly remount, call drive.mount(\"/content/drive\", force_remount=True).\n"
          ],
          "name": "stdout"
        }
      ]
    },
    {
      "cell_type": "code",
      "metadata": {
        "id": "UAHDf7YhShHO"
      },
      "source": [
        "import os\r\n",
        "os.chdir(r'/content/drive/My Drive')  # Change the directory"
      ],
      "execution_count": null,
      "outputs": []
    },
    {
      "cell_type": "markdown",
      "metadata": {
        "id": "6RKtE7d0YAG2"
      },
      "source": [
        "# Requirements"
      ]
    },
    {
      "cell_type": "code",
      "metadata": {
        "id": "IwBCKBEXVYjN"
      },
      "source": [
        "import os\r\n",
        "import numpy as np\r\n",
        "import pandas as pd\r\n",
        "import tensorflow\r\n",
        "import keras\r\n",
        "from keras.preprocessing.image import ImageDataGenerator\r\n",
        "from keras.models import Sequential\r\n",
        "from keras.layers import Conv2D, MaxPooling2D, GlobalAveragePooling2D, Dense, Flatten\r\n",
        "from keras import regularizers\r\n",
        "import keras.backend as K\r\n",
        "from keras.models import load_model\r\n",
        "from tensorflow.core.util import event_pb2\r\n",
        "from tensorflow.python.lib.io import tf_record\r\n",
        "import matplotlib.pyplot as plt\r\n",
        "import sklearn.metrics as metrics\r\n",
        "import cv2"
      ],
      "execution_count": null,
      "outputs": []
    },
    {
      "cell_type": "markdown",
      "metadata": {
        "id": "calsYefrYC1P"
      },
      "source": [
        "# Dataset loader"
      ]
    },
    {
      "cell_type": "code",
      "metadata": {
        "colab": {
          "base_uri": "https://localhost:8080/"
        },
        "id": "qjubR6-Zvpn2",
        "outputId": "a933f831-e33c-43df-a1ff-448d3c17e5b3"
      },
      "source": [
        "train_dir = '/content/drive/My Drive/hmt_dataset/HMT_train'\r\n",
        "test_dir = '/content/drive/My Drive/hmt_dataset/HMT_test'\r\n",
        "\r\n",
        "train_datagen = ImageDataGenerator(rescale=1/255.,\r\n",
        "shear_range=0.1,\r\n",
        "rotation_range=15,\r\n",
        "horizontal_flip=True,\r\n",
        "vertical_flip=True)\r\n",
        "\r\n",
        "test_datagen = ImageDataGenerator(rescale=1/255.)\r\n",
        "\r\n",
        "train_generator = train_datagen.flow_from_directory(train_dir,\r\n",
        "class_mode='categorical',\r\n",
        "interpolation='bilinear',\r\n",
        "target_size=(224, 224),\r\n",
        "batch_size=32,\r\n",
        "shuffle=True)\r\n",
        "\r\n",
        "test_generator = test_datagen.flow_from_directory(test_dir,\r\n",
        "class_mode='categorical',\r\n",
        "interpolation='bilinear',\r\n",
        "target_size=(224, 224),\r\n",
        "batch_size=32,\r\n",
        "shuffle=False)"
      ],
      "execution_count": null,
      "outputs": [
        {
          "output_type": "stream",
          "text": [
            "Found 4504 images belonging to 8 classes.\n",
            "Found 496 images belonging to 8 classes.\n"
          ],
          "name": "stdout"
        }
      ]
    },
    {
      "cell_type": "markdown",
      "metadata": {
        "id": "c1ewbg_Qv6Gd"
      },
      "source": [
        "Overrided"
      ]
    },
    {
      "cell_type": "markdown",
      "metadata": {
        "id": "-q-2qXovYJQ6"
      },
      "source": [
        "# Create Model"
      ]
    },
    {
      "cell_type": "code",
      "metadata": {
        "id": "Sjj4ZEe4XFCF"
      },
      "source": [
        "weight_decay = 5e-4\r\n",
        "model = Sequential()\r\n",
        "model.add(Conv2D(32, kernel_size=(3, 3), padding='same', activation='relu', input_shape=(224, 224, 3), kernel_regularizer=regularizers.l2(weight_decay)))\r\n",
        "model.add(Conv2D(32, kernel_size=(3, 3), padding='same', activation='relu', kernel_regularizer=regularizers.l2(weight_decay)))\r\n",
        "model.add(MaxPooling2D(pool_size=(2, 2)))\r\n",
        "\r\n",
        "model.add(Conv2D(64, kernel_size=(3, 3), padding='same', activation='relu', kernel_regularizer=regularizers.l2(weight_decay)))\r\n",
        "model.add(Conv2D(64, kernel_size=(3, 3), padding='same', activation='relu', kernel_regularizer=regularizers.l2(weight_decay)))\r\n",
        "model.add(MaxPooling2D(pool_size=(2, 2)))\r\n",
        "\r\n",
        "# flatten?\r\n",
        "\r\n",
        "#model.add(Flatten())\r\n",
        "model.add(GlobalAveragePooling2D())\r\n",
        "#model.add(Dense(1024, activation='relu', kernel_initializer=keras.initializers.RandomNormal(mean=0.0, stddev=0.5),\r\n",
        "#                bias_initializer=keras.initializers.Zeros(), kernel_regularizer=regularizers.l2(weight_decay)))\r\n",
        "model.add(Dense(8, activation='softmax', kernel_initializer=keras.initializers.RandomNormal(mean=0.0, stddev=0.5),\r\n",
        "                bias_initializer=keras.initializers.Zeros(), kernel_regularizer=regularizers.l2(weight_decay)))"
      ],
      "execution_count": null,
      "outputs": []
    },
    {
      "cell_type": "code",
      "metadata": {
        "colab": {
          "base_uri": "https://localhost:8080/"
        },
        "id": "p-4ejl671J3v",
        "outputId": "39745770-f8b9-4bbf-c06b-e966c2246968"
      },
      "source": [
        "model.summary()"
      ],
      "execution_count": null,
      "outputs": [
        {
          "output_type": "stream",
          "text": [
            "Model: \"sequential_1\"\n",
            "_________________________________________________________________\n",
            "Layer (type)                 Output Shape              Param #   \n",
            "=================================================================\n",
            "conv2d_4 (Conv2D)            (None, 224, 224, 32)      896       \n",
            "_________________________________________________________________\n",
            "conv2d_5 (Conv2D)            (None, 224, 224, 32)      9248      \n",
            "_________________________________________________________________\n",
            "max_pooling2d_2 (MaxPooling2 (None, 112, 112, 32)      0         \n",
            "_________________________________________________________________\n",
            "conv2d_6 (Conv2D)            (None, 112, 112, 64)      18496     \n",
            "_________________________________________________________________\n",
            "conv2d_7 (Conv2D)            (None, 112, 112, 64)      36928     \n",
            "_________________________________________________________________\n",
            "max_pooling2d_3 (MaxPooling2 (None, 56, 56, 64)        0         \n",
            "_________________________________________________________________\n",
            "global_average_pooling2d_1 ( (None, 64)                0         \n",
            "_________________________________________________________________\n",
            "dense_1 (Dense)              (None, 8)                 520       \n",
            "=================================================================\n",
            "Total params: 66,088\n",
            "Trainable params: 66,088\n",
            "Non-trainable params: 0\n",
            "_________________________________________________________________\n"
          ],
          "name": "stdout"
        }
      ]
    },
    {
      "cell_type": "markdown",
      "metadata": {
        "id": "Kvv6IX1-8n3O"
      },
      "source": [
        "# Training"
      ]
    },
    {
      "cell_type": "code",
      "metadata": {
        "id": "dD2-9ryQ1RrA"
      },
      "source": [
        "# Compile the model\r\n",
        "model.compile(loss=keras.losses.categorical_crossentropy,\r\n",
        "              optimizer=keras.optimizers.SGD(),\r\n",
        "              metrics=['accuracy'])"
      ],
      "execution_count": null,
      "outputs": []
    },
    {
      "cell_type": "code",
      "metadata": {
        "id": "ROz-WKALbiLh"
      },
      "source": [
        "def lr_scheduler(epoch):\r\n",
        "    base_ep = 15\r\n",
        "    return 1e-3 * (.5 ** (epoch // base_ep))\r\n",
        "lr_reduce_cb = keras.callbacks.LearningRateScheduler(lr_scheduler)\r\n",
        "tensorboard_cb = keras.callbacks.TensorBoard(log_dir='log2', write_graph=True)\r\n",
        "early_stopping_cb = keras.callbacks.EarlyStopping(patience=8, min_delta=0.)"
      ],
      "execution_count": null,
      "outputs": []
    },
    {
      "cell_type": "code",
      "metadata": {
        "id": "p2ysz8Bu1PW3"
      },
      "source": [
        "model.fit_generator(generator=train_generator,\r\n",
        "                    steps_per_epoch=train_generator.n // 32,\r\n",
        "                    epochs=150,\r\n",
        "                    callbacks=[tensorboard_cb],                  \r\n",
        "                    shuffle = True,\r\n",
        "                    verbose=1)"
      ],
      "execution_count": null,
      "outputs": []
    },
    {
      "cell_type": "code",
      "metadata": {
        "id": "fyuUgXy7p63G"
      },
      "source": [
        "model.save('HMT.h5')"
      ],
      "execution_count": null,
      "outputs": []
    },
    {
      "cell_type": "markdown",
      "metadata": {
        "id": "vHXAMFq68q8p"
      },
      "source": [
        "# Load Model"
      ]
    },
    {
      "cell_type": "code",
      "metadata": {
        "id": "xBqL38S0KYQp"
      },
      "source": [
        "model=load_model('HMT.h5')"
      ],
      "execution_count": null,
      "outputs": []
    },
    {
      "cell_type": "code",
      "metadata": {
        "id": "fdmpfmFXOvGQ"
      },
      "source": [
        "def my_summary_iterator(path):\r\n",
        "  for r in tf_record.tf_record_iterator(path):\r\n",
        "    yield event_pb2.Event.FromString(r)\r\n",
        "train_acc = []\r\n",
        "train_loss = []\r\n",
        "train_lr = []\r\n",
        "#print('log/train/' + os.listdir('log/train')[2])\r\n",
        "for e in my_summary_iterator('log/train/' + os.listdir('log/train')[-1]):\r\n",
        "  for v in e.summary.value:\r\n",
        "    if v.tag == 'epoch_accuracy':\r\n",
        "      train_acc.append(v.simple_value)\r\n",
        "    elif v.tag == 'epoch_loss':\r\n",
        "      train_loss.append(v.simple_value)"
      ],
      "execution_count": null,
      "outputs": []
    },
    {
      "cell_type": "code",
      "metadata": {
        "colab": {
          "base_uri": "https://localhost:8080/",
          "height": 312
        },
        "id": "ZuYBQxCzktXv",
        "outputId": "9057fcfa-bd59-43a8-839c-ed377d7dedd9"
      },
      "source": [
        "plt.plot(np.arange(len(train_acc)), train_acc)\r\n",
        "plt.xlabel('Epoch')\r\n",
        "plt.ylabel('Training Accuracy')\r\n",
        "plt.title('Training progress: Accuracy')"
      ],
      "execution_count": null,
      "outputs": [
        {
          "output_type": "execute_result",
          "data": {
            "text/plain": [
              "Text(0.5, 1.0, 'Training progress: Accuracy')"
            ]
          },
          "metadata": {
            "tags": []
          },
          "execution_count": 14
        },
        {
          "output_type": "display_data",
          "data": {
            "image/png": "[encoded data removed]",
            "text/plain": [
              "<Figure size 432x288 with 1 Axes>"
            ]
          },
          "metadata": {
            "tags": [],
            "needs_background": "light"
          }
        }
      ]
    },
    {
      "cell_type": "code",
      "metadata": {
        "id": "lFYPSLg_lEvC",
        "colab": {
          "base_uri": "https://localhost:8080/",
          "height": 312
        },
        "outputId": "64798f15-5b60-406f-d5bf-584f80f3fed4"
      },
      "source": [
        "plt.plot(np.arange(len(train_loss)), train_loss)\r\n",
        "plt.xlabel('Epoch')\r\n",
        "plt.ylabel('Training Loss')\r\n",
        "plt.title('Training progress: Loss')"
      ],
      "execution_count": null,
      "outputs": [
        {
          "output_type": "execute_result",
          "data": {
            "text/plain": [
              "Text(0.5, 1.0, 'Training progress: Loss')"
            ]
          },
          "metadata": {
            "tags": []
          },
          "execution_count": 15
        },
        {
          "output_type": "display_data",
          "data": {
            "image/png": "[encoded data removed]",
            "text/plain": [
              "<Figure size 432x288 with 1 Axes>"
            ]
          },
          "metadata": {
            "tags": [],
            "needs_background": "light"
          }
        }
      ]
    }
  ]
}